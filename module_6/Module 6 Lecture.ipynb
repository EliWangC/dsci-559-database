{
 "cells": [
  {
   "cell_type": "code",
   "execution_count": 1,
   "id": "f569eed3",
   "metadata": {},
   "outputs": [],
   "source": [
    "import numpy as np\n",
    "import json"
   ]
  },
  {
   "cell_type": "markdown",
   "id": "c33c0fd6",
   "metadata": {},
   "source": [
    "JSON data is generally stored in strings:"
   ]
  },
  {
   "cell_type": "code",
   "execution_count": 2,
   "id": "e6d8b9e0",
   "metadata": {},
   "outputs": [
    {
     "name": "stdout",
     "output_type": "stream",
     "text": [
      "<class 'str'>\n"
     ]
    },
    {
     "data": {
      "text/plain": [
       "'{\"NAME\": \"Allen\", \"AGE\": 25, \"ADDRESS\": \"Texas\", \"SALARY\": 15000}'"
      ]
     },
     "execution_count": 2,
     "metadata": {},
     "output_type": "execute_result"
    }
   ],
   "source": [
    "employee = '{\"NAME\": \"Allen\", \"AGE\": 25, \"ADDRESS\": \"Texas\", \"SALARY\": 15000}'\n",
    "print(type(employee))\n",
    "employee"
   ]
  },
  {
   "cell_type": "markdown",
   "id": "690795c6",
   "metadata": {},
   "source": [
    "The Python json.loads (\"load string\") function parses a string into the appropriate Python datatype (usually a dictionary)"
   ]
  },
  {
   "cell_type": "code",
   "execution_count": 3,
   "id": "8315fff0",
   "metadata": {},
   "outputs": [
    {
     "name": "stdout",
     "output_type": "stream",
     "text": [
      "<class 'dict'>\n"
     ]
    },
    {
     "data": {
      "text/plain": [
       "{'NAME': 'Allen', 'AGE': 25, 'ADDRESS': 'Texas', 'SALARY': 15000}"
      ]
     },
     "execution_count": 3,
     "metadata": {},
     "output_type": "execute_result"
    }
   ],
   "source": [
    "parsed_employee = json.loads(employee)\n",
    "print(type(parsed_employee))\n",
    "parsed_employee"
   ]
  },
  {
   "cell_type": "markdown",
   "id": "ba31ae08",
   "metadata": {},
   "source": [
    "If the string is an array, json.loads() parses it into a Python list."
   ]
  },
  {
   "cell_type": "code",
   "execution_count": 4,
   "id": "5301dcdd",
   "metadata": {},
   "outputs": [
    {
     "name": "stdout",
     "output_type": "stream",
     "text": [
      "<class 'str'>\n"
     ]
    },
    {
     "data": {
      "text/plain": [
       "'[{\"NAME\": \"Paul\", \"AGE\": 32, \"ADDRESS\": \"California\", \"SALARY\": 20000.0},     {\"NAME\": \"Allen\", \"AGE\": 25, \"ADDRESS\": \"Texas\", \"SALARY\": 15000},     {\"NAME\": \"Teddy\", \"AGE\": 23, \"ADDRESS\": \"Norway\", \"SALARY\": 20000.0}]'"
      ]
     },
     "execution_count": 4,
     "metadata": {},
     "output_type": "execute_result"
    }
   ],
   "source": [
    "employee_data = '''[{\"NAME\": \"Paul\", \"AGE\": 32, \"ADDRESS\": \"California\", \"SALARY\": 20000.0}, \\\n",
    "    {\"NAME\": \"Allen\", \"AGE\": 25, \"ADDRESS\": \"Texas\", \"SALARY\": 15000}, \\\n",
    "    {\"NAME\": \"Teddy\", \"AGE\": 23, \"ADDRESS\": \"Norway\", \"SALARY\": 20000.0}]'''\n",
    "print(type(employee_data))\n",
    "employee_data"
   ]
  },
  {
   "cell_type": "code",
   "execution_count": 5,
   "id": "31c1a6c2",
   "metadata": {},
   "outputs": [
    {
     "name": "stdout",
     "output_type": "stream",
     "text": [
      "<class 'list'>\n"
     ]
    },
    {
     "data": {
      "text/plain": [
       "[{'NAME': 'Paul', 'AGE': 32, 'ADDRESS': 'California', 'SALARY': 20000.0},\n",
       " {'NAME': 'Allen', 'AGE': 25, 'ADDRESS': 'Texas', 'SALARY': 15000},\n",
       " {'NAME': 'Teddy', 'AGE': 23, 'ADDRESS': 'Norway', 'SALARY': 20000.0}]"
      ]
     },
     "execution_count": 5,
     "metadata": {},
     "output_type": "execute_result"
    }
   ],
   "source": [
    "parsed_employee_data = json.loads(employee_data)\n",
    "print(type(parsed_employee_data))\n",
    "parsed_employee_data"
   ]
  },
  {
   "cell_type": "markdown",
   "id": "415959b1",
   "metadata": {},
   "source": [
    "A slightly more complex example"
   ]
  },
  {
   "cell_type": "code",
   "execution_count": 6,
   "id": "44d9ae79",
   "metadata": {},
   "outputs": [
    {
     "name": "stdout",
     "output_type": "stream",
     "text": [
      "<class 'str'>\n"
     ]
    },
    {
     "data": {
      "text/plain": [
       "'{\"EMPLOYEE\": [{\"NAME\": \"Paul\", \"AGE\": 32, \"ADDRESS\": \"California\", \"SALARY\": 20000.0},   {\"NAME\": \"Allen\", \"AGE\": 25, \"ADDRESS\": \"Texas\", \"SALARY\": 15000},   {\"NAME\": \"Teddy\", \"AGE\": 23, \"ADDRESS\": \"Norway\", \"SALARY\": 20000.0}]}'"
      ]
     },
     "execution_count": 6,
     "metadata": {},
     "output_type": "execute_result"
    }
   ],
   "source": [
    "employee_file = '{\"EMPLOYEE\": [{\"NAME\": \"Paul\", \"AGE\": 32, \"ADDRESS\": \"California\", \"SALARY\": 20000.0}, \\\n",
    "  {\"NAME\": \"Allen\", \"AGE\": 25, \"ADDRESS\": \"Texas\", \"SALARY\": 15000}, \\\n",
    "  {\"NAME\": \"Teddy\", \"AGE\": 23, \"ADDRESS\": \"Norway\", \"SALARY\": 20000.0}]}'\n",
    "print(type(employee_file))\n",
    "employee_file"
   ]
  },
  {
   "cell_type": "code",
   "execution_count": 7,
   "id": "0c0172cd",
   "metadata": {},
   "outputs": [
    {
     "name": "stdout",
     "output_type": "stream",
     "text": [
      "<class 'dict'>\n"
     ]
    },
    {
     "data": {
      "text/plain": [
       "{'EMPLOYEE': [{'NAME': 'Paul',\n",
       "   'AGE': 32,\n",
       "   'ADDRESS': 'California',\n",
       "   'SALARY': 20000.0},\n",
       "  {'NAME': 'Allen', 'AGE': 25, 'ADDRESS': 'Texas', 'SALARY': 15000},\n",
       "  {'NAME': 'Teddy', 'AGE': 23, 'ADDRESS': 'Norway', 'SALARY': 20000.0}]}"
      ]
     },
     "execution_count": 7,
     "metadata": {},
     "output_type": "execute_result"
    }
   ],
   "source": [
    "parsed_employee_file = json.loads(employee_file)\n",
    "print(type(parsed_employee_file))\n",
    "parsed_employee_file"
   ]
  },
  {
   "cell_type": "markdown",
   "id": "05adddcf",
   "metadata": {},
   "source": [
    "The python json.dumps (dump string) converts a Python dictionary to a JSON string:"
   ]
  },
  {
   "cell_type": "code",
   "execution_count": 8,
   "id": "38c83010",
   "metadata": {},
   "outputs": [
    {
     "name": "stdout",
     "output_type": "stream",
     "text": [
      "<class 'str'>\n"
     ]
    },
    {
     "data": {
      "text/plain": [
       "'{\"EMPLOYEE\": [{\"NAME\": \"Paul\", \"AGE\": 32, \"ADDRESS\": \"California\", \"SALARY\": 20000.0},   {\"NAME\": \"Allen\", \"AGE\": 25, \"ADDRESS\": \"Texas\", \"SALARY\": 15000},   {\"NAME\": \"Teddy\", \"AGE\": 23, \"ADDRESS\": \"Norway\", \"SALARY\": 20000.0}]}'"
      ]
     },
     "execution_count": 8,
     "metadata": {},
     "output_type": "execute_result"
    }
   ],
   "source": [
    "employee_file_dict = {\"EMPLOYEE\": [{\"NAME\": \"Paul\", \"AGE\": 32, \"ADDRESS\": \"California\", \"SALARY\": 20000.0}, \\\n",
    "  {\"NAME\": \"Allen\", \"AGE\": 25, \"ADDRESS\": \"Texas\", \"SALARY\": 15000}, \\\n",
    "  {\"NAME\": \"Teddy\", \"AGE\": 23, \"ADDRESS\": \"Norway\", \"SALARY\": 20000.0}]}\n",
    "print(type(employee_file))\n",
    "employee_file"
   ]
  },
  {
   "cell_type": "code",
   "execution_count": 9,
   "id": "5adf976f",
   "metadata": {},
   "outputs": [
    {
     "name": "stdout",
     "output_type": "stream",
     "text": [
      "<class 'str'>\n"
     ]
    },
    {
     "data": {
      "text/plain": [
       "'{\"EMPLOYEE\": [{\"NAME\": \"Paul\", \"AGE\": 32, \"ADDRESS\": \"California\", \"SALARY\": 20000.0}, {\"NAME\": \"Allen\", \"AGE\": 25, \"ADDRESS\": \"Texas\", \"SALARY\": 15000}, {\"NAME\": \"Teddy\", \"AGE\": 23, \"ADDRESS\": \"Norway\", \"SALARY\": 20000.0}]}'"
      ]
     },
     "execution_count": 9,
     "metadata": {},
     "output_type": "execute_result"
    }
   ],
   "source": [
    "employee_file_json = json.dumps(employee_file_dict)\n",
    "print(type(employee_file_json))\n",
    "employee_file_json"
   ]
  },
  {
   "cell_type": "markdown",
   "id": "b4c3cba2",
   "metadata": {},
   "source": [
    "The json.load() and json.dump() commands are the equivalent to json.loads() and json.dumps() except that they work with files instead of Python strings"
   ]
  },
  {
   "cell_type": "code",
   "execution_count": 10,
   "id": "581c576d",
   "metadata": {},
   "outputs": [
    {
     "name": "stdout",
     "output_type": "stream",
     "text": [
      "<class 'dict'>\n"
     ]
    },
    {
     "data": {
      "text/plain": [
       "{'EMPLOYEE': [{'NAME': 'Paul',\n",
       "   'AGE': 32,\n",
       "   'ADDRESS': 'California',\n",
       "   'SALARY': 20000.0},\n",
       "  {'NAME': 'Allen', 'AGE': 25, 'ADDRESS': 'Texas', 'SALARY': 15000},\n",
       "  {'NAME': 'Teddy', 'AGE': 23, 'ADDRESS': 'Norway', 'SALARY': 20000.0}]}"
      ]
     },
     "execution_count": 10,
     "metadata": {},
     "output_type": "execute_result"
    }
   ],
   "source": [
    "with open('employee_example.json') as f:\n",
    "    employee_data = json.load(f)\n",
    "print(type(employee_data))\n",
    "employee_data"
   ]
  },
  {
   "cell_type": "code",
   "execution_count": 11,
   "id": "e1ee8cd5",
   "metadata": {},
   "outputs": [],
   "source": [
    "with open(\"example_employee_2.json\", \"w\") as outfile:\n",
    "    json.dump(employee_data, outfile)"
   ]
  },
  {
   "cell_type": "markdown",
   "id": "934849e1",
   "metadata": {},
   "source": [
    "Python TRY block usage"
   ]
  },
  {
   "cell_type": "code",
   "execution_count": 12,
   "id": "ebfd50a8",
   "metadata": {},
   "outputs": [
    {
     "name": "stdout",
     "output_type": "stream",
     "text": [
      "An error occurred\n"
     ]
    }
   ],
   "source": [
    "try:\n",
    "    print(x)  # Will generate an error if x has not been defined\n",
    "except:\n",
    "    print('An error occurred')  "
   ]
  },
  {
   "cell_type": "markdown",
   "id": "e4a8c4d5",
   "metadata": {},
   "source": [
    "Checking if a string is valid JSON in Python"
   ]
  },
  {
   "cell_type": "code",
   "execution_count": 13,
   "id": "8d34881a",
   "metadata": {},
   "outputs": [],
   "source": [
    "def validateJSON(jsonData):\n",
    "    try:\n",
    "        json.loads(jsonData) # Generate an error if the json.loads returns an error due to input not being valid JSON\n",
    "    except ValueError as err:\n",
    "        return False\n",
    "    return True"
   ]
  },
  {
   "cell_type": "code",
   "execution_count": 14,
   "id": "dc33bc92",
   "metadata": {},
   "outputs": [
    {
     "name": "stdout",
     "output_type": "stream",
     "text": [
      "Given JSON string is Valid False\n",
      "Given JSON string is Valid True\n"
     ]
    }
   ],
   "source": [
    "InvalidJsonData = \"\"\"{\"name\": \"jane doe\", \"salary\": 9000, \"email\": \"jane.doe@pynative.com\",}\"\"\"\n",
    "isValid = validateJSON(InvalidJsonData)\n",
    "\n",
    "print(\"Given JSON string is Valid\", isValid)\n",
    "\n",
    "validJsonData = \"\"\"{\"name\": \"jane doe\", \"salary\": 9000, \"email\": \"jane.doe@pynative.com\"}\"\"\"\n",
    "isValid = validateJSON(validJsonData)\n",
    "\n",
    "print(\"Given JSON string is Valid\", isValid)"
   ]
  },
  {
   "cell_type": "code",
   "execution_count": 15,
   "id": "f5e4509d",
   "metadata": {},
   "outputs": [],
   "source": [
    "import jsonschema\n",
    "from jsonschema import validate"
   ]
  },
  {
   "cell_type": "code",
   "execution_count": 16,
   "id": "bdd94a56",
   "metadata": {},
   "outputs": [],
   "source": [
    "def validateJson(jsonData, jsonSchema):\n",
    "    try:\n",
    "        validate(instance=jsonData, schema=jsonSchema)\n",
    "    except jsonschema.exceptions.ValidationError as err:\n",
    "        return False\n",
    "    return True"
   ]
  },
  {
   "cell_type": "code",
   "execution_count": 17,
   "id": "7db1c9ce",
   "metadata": {},
   "outputs": [],
   "source": [
    "studentSchema = {\n",
    "    \"type\": \"object\",\n",
    "    \"properties\": {\n",
    "        \"name\": {\"type\": \"string\"},\n",
    "        \"rollnumber\": {\"type\": \"number\"},\n",
    "        \"marks\": {\"type\": \"number\"},\n",
    "    },\n",
    "}"
   ]
  },
  {
   "cell_type": "code",
   "execution_count": 18,
   "id": "76decf5b",
   "metadata": {},
   "outputs": [
    {
     "name": "stdout",
     "output_type": "stream",
     "text": [
      "{'name': 'jane doe', 'rollnumber': '25', 'marks': 72}\n",
      "Given JSON data is InValid\n"
     ]
    }
   ],
   "source": [
    "jsonData = json.loads('{\"name\": \"jane doe\", \"rollnumber\": \"25\", \"marks\": 72}')\n",
    "# validate it\n",
    "isValid = validateJson(jsonData, studentSchema)\n",
    "if isValid:\n",
    "    print(jsonData)\n",
    "    print(\"Given JSON data is Valid\")\n",
    "else:\n",
    "    print(jsonData)\n",
    "    print(\"Given JSON data is InValid\")"
   ]
  },
  {
   "cell_type": "code",
   "execution_count": 19,
   "id": "8bdcdeae",
   "metadata": {},
   "outputs": [
    {
     "name": "stdout",
     "output_type": "stream",
     "text": [
      "{'name': 'jane doe', 'rollnumber': '25', 'marks': 72}\n",
      "Given JSON data is InValid\n"
     ]
    }
   ],
   "source": [
    "jsonData = json.loads('{\"name\": \"jane doe\", \"rollnumber\": \"25\", \"marks\": 72}')\n",
    "# validate it\n",
    "isValid = validateJson(jsonData, studentSchema)\n",
    "if isValid:\n",
    "    print(jsonData)\n",
    "    print(\"Given JSON data is Valid\")\n",
    "else:\n",
    "    print(jsonData)\n",
    "    print(\"Given JSON data is InValid\")"
   ]
  },
  {
   "cell_type": "code",
   "execution_count": 20,
   "id": "1e22af2f",
   "metadata": {},
   "outputs": [
    {
     "name": "stdout",
     "output_type": "stream",
     "text": [
      "{'name': 'jane doe', 'rollnumber': 25, 'marks': 72}\n",
      "Given JSON data is Valid\n"
     ]
    }
   ],
   "source": [
    "jsonData = json.loads('{\"name\": \"jane doe\", \"rollnumber\": 25, \"marks\": 72}')\n",
    "# validate it\n",
    "isValid = validateJson(jsonData, studentSchema)\n",
    "if isValid:\n",
    "    print(jsonData)\n",
    "    print(\"Given JSON data is Valid\")\n",
    "else:\n",
    "    print(jsonData)\n",
    "    print(\"Given JSON data is InValid\")"
   ]
  },
  {
   "cell_type": "code",
   "execution_count": null,
   "id": "601f3fcf",
   "metadata": {},
   "outputs": [],
   "source": []
  }
 ],
 "metadata": {
  "kernelspec": {
   "display_name": "Python 3",
   "language": "python",
   "name": "python3"
  },
  "language_info": {
   "codemirror_mode": {
    "name": "ipython",
    "version": 3
   },
   "file_extension": ".py",
   "mimetype": "text/x-python",
   "name": "python",
   "nbconvert_exporter": "python",
   "pygments_lexer": "ipython3",
   "version": "3.8.8"
  }
 },
 "nbformat": 4,
 "nbformat_minor": 5
}
